{
 "cells": [
  {
   "cell_type": "markdown",
   "id": "reserved-charles",
   "metadata": {},
   "source": [
    "# Notebook to finetune Finnish Version of BERT (https://github.com/TurkuNLP/FinBERT)\n",
    "\n",
    "# Using datafrom: https://github.com/aajanki/eduskunta-vkk"
   ]
  },
  {
   "cell_type": "code",
   "execution_count": 8,
   "id": "guided-premium",
   "metadata": {},
   "outputs": [
    {
     "name": "stdout",
     "output_type": "stream",
     "text": [
      "['sisäministeri' 'oikeus- ja työministeri'\n",
      " 'maatalous- ja ympäristöministeri' 'perhe- ja peruspalveluministeri'\n",
      " 'sosiaali- ja terveysministeri' 'opetus- ja kulttuuriministeri'\n",
      " 'eurooppa-, kulttuuri- ja urheiluministeri'\n",
      " 'liikenne- ja viestintäministeri' 'ulkoministeri' 'pääministeri'\n",
      " 'valtiovarainministeri' 'elinkeinoministeri'\n",
      " 'kunta- ja uudistusministeri' 'puolustusministeri'\n",
      " 'ulkomaankauppa- ja kehitysministeri']\n"
     ]
    }
   ],
   "source": [
    "#Data\n",
    "import pandas as pd\n",
    "\n",
    "train_df = pd.read_csv(\"data/train.csv\")\n",
    "label_names = train_df.ministry.unique()\n",
    "\n",
    "classnames = {}\n",
    "for i, label in enumerate(label_names):\n",
    "    classnames[label] = i\n",
    "    \n",
    "def labelfromclass(classname):\n",
    "    return classnames[classname]\n",
    "\n",
    "def classfromlabel(label):\n",
    "    keys = list(classnames.keys())\n",
    "    values = list(classnames.values())\n",
    "    return keys[values.index(label)]\n",
    "\n",
    "print(label_names)"
   ]
  },
  {
   "cell_type": "code",
   "execution_count": 9,
   "id": "about-saying",
   "metadata": {},
   "outputs": [
    {
     "data": {
      "text/html": [
       "<div>\n",
       "<style scoped>\n",
       "    .dataframe tbody tr th:only-of-type {\n",
       "        vertical-align: middle;\n",
       "    }\n",
       "\n",
       "    .dataframe tbody tr th {\n",
       "        vertical-align: top;\n",
       "    }\n",
       "\n",
       "    .dataframe thead th {\n",
       "        text-align: right;\n",
       "    }\n",
       "</style>\n",
       "<table border=\"1\" class=\"dataframe\">\n",
       "  <thead>\n",
       "    <tr style=\"text-align: right;\">\n",
       "      <th></th>\n",
       "      <th>sentence</th>\n",
       "      <th>ministry</th>\n",
       "    </tr>\n",
       "  </thead>\n",
       "  <tbody>\n",
       "    <tr>\n",
       "      <th>0</th>\n",
       "      <td>Hallituksen esityksen 43/2016vp valmistelussa ...</td>\n",
       "      <td>sisäministeri</td>\n",
       "    </tr>\n",
       "    <tr>\n",
       "      <th>1</th>\n",
       "      <td>Suojaosuuden nostaminen vähentäisi kaikkien ve...</td>\n",
       "      <td>oikeus- ja työministeri</td>\n",
       "    </tr>\n",
       "    <tr>\n",
       "      <th>2</th>\n",
       "      <td>Edistämällä puun käyttöä rakentamisessa tuetaa...</td>\n",
       "      <td>maatalous- ja ympäristöministeri</td>\n",
       "    </tr>\n",
       "    <tr>\n",
       "      <th>3</th>\n",
       "      <td>Valvira ja aluehallintovirastot ovat ottaneet ...</td>\n",
       "      <td>perhe- ja peruspalveluministeri</td>\n",
       "    </tr>\n",
       "    <tr>\n",
       "      <th>4</th>\n",
       "      <td>Lainmuutoksessa säädettiin vaativan lääkinnäll...</td>\n",
       "      <td>sosiaali- ja terveysministeri</td>\n",
       "    </tr>\n",
       "    <tr>\n",
       "      <th>5</th>\n",
       "      <td>Hilan tehtävänä on siis päättää , mitkä lääkke...</td>\n",
       "      <td>sosiaali- ja terveysministeri</td>\n",
       "    </tr>\n",
       "    <tr>\n",
       "      <th>6</th>\n",
       "      <td>Ammattikorkeakoulujen opiskelijakunnista sääde...</td>\n",
       "      <td>opetus- ja kulttuuriministeri</td>\n",
       "    </tr>\n",
       "    <tr>\n",
       "      <th>7</th>\n",
       "      <td>Kysymyksessäkin todetusti on tärkeää , että ty...</td>\n",
       "      <td>sosiaali- ja terveysministeri</td>\n",
       "    </tr>\n",
       "    <tr>\n",
       "      <th>8</th>\n",
       "      <td>Laki ei sinällään sisällä sanktioita työntekij...</td>\n",
       "      <td>perhe- ja peruspalveluministeri</td>\n",
       "    </tr>\n",
       "    <tr>\n",
       "      <th>9</th>\n",
       "      <td>Sibeliuksen syntymäpäivän 8.12. ja Eurooppa-pä...</td>\n",
       "      <td>sisäministeri</td>\n",
       "    </tr>\n",
       "  </tbody>\n",
       "</table>\n",
       "</div>"
      ],
      "text/plain": [
       "                                            sentence  \\\n",
       "0  Hallituksen esityksen 43/2016vp valmistelussa ...   \n",
       "1  Suojaosuuden nostaminen vähentäisi kaikkien ve...   \n",
       "2  Edistämällä puun käyttöä rakentamisessa tuetaa...   \n",
       "3  Valvira ja aluehallintovirastot ovat ottaneet ...   \n",
       "4  Lainmuutoksessa säädettiin vaativan lääkinnäll...   \n",
       "5  Hilan tehtävänä on siis päättää , mitkä lääkke...   \n",
       "6  Ammattikorkeakoulujen opiskelijakunnista sääde...   \n",
       "7  Kysymyksessäkin todetusti on tärkeää , että ty...   \n",
       "8  Laki ei sinällään sisällä sanktioita työntekij...   \n",
       "9  Sibeliuksen syntymäpäivän 8.12. ja Eurooppa-pä...   \n",
       "\n",
       "                           ministry  \n",
       "0                     sisäministeri  \n",
       "1           oikeus- ja työministeri  \n",
       "2  maatalous- ja ympäristöministeri  \n",
       "3   perhe- ja peruspalveluministeri  \n",
       "4     sosiaali- ja terveysministeri  \n",
       "5     sosiaali- ja terveysministeri  \n",
       "6     opetus- ja kulttuuriministeri  \n",
       "7     sosiaali- ja terveysministeri  \n",
       "8   perhe- ja peruspalveluministeri  \n",
       "9                     sisäministeri  "
      ]
     },
     "execution_count": 9,
     "metadata": {},
     "output_type": "execute_result"
    }
   ],
   "source": [
    "train_df.head(10)"
   ]
  },
  {
   "cell_type": "code",
   "execution_count": 23,
   "id": "frozen-contributor",
   "metadata": {},
   "outputs": [
    {
     "name": "stdout",
     "output_type": "stream",
     "text": [
      "tensor([0.0001, 0.0001, 0.0002, 0.0002, 0.0002, 0.0003, 0.0003, 0.0004, 0.0005,\n",
      "        0.0011, 0.0011, 0.0013, 0.0013, 0.0013, 0.0016])\n"
     ]
    },
    {
     "data": {
      "text/plain": [
       "<AxesSubplot:>"
      ]
     },
     "execution_count": 23,
     "metadata": {},
     "output_type": "execute_result"
    },
    {
     "data": {
      "image/png": "[encoded data removed]",
      "text/plain": [
       "<Figure size 432x288 with 1 Axes>"
      ]
     },
     "metadata": {
      "needs_background": "light"
     },
     "output_type": "display_data"
    }
   ],
   "source": [
    "#Count of different classes\n",
    "#Very uneven distribution of classes\n",
    "import seaborn as sns\n",
    "label_counts = train_df.ministry.value_counts()\n",
    "label_counts = [label_counts[i] for i in range(len(label_counts))]\n",
    "\n",
    "#class weights to counter class imbalance\n",
    "class_weights = 1./(torch.tensor(label_counts))\n",
    "print(class_weights)\n",
    "\n",
    "train_df.ministry.value_counts().plot(kind='bar')"
   ]
  },
  {
   "cell_type": "code",
   "execution_count": 21,
   "id": "manufactured-console",
   "metadata": {},
   "outputs": [],
   "source": [
    "from torch.utils.data import Dataset, DataLoader\n",
    "import torch\n",
    "import transformers\n",
    "\n",
    "tokenizer = transformers.BertTokenizer.from_pretrained(\"TurkuNLP/bert-base-finnish-uncased-v1\")\n",
    "\n",
    "class TextClassificationDataset(Dataset):\n",
    "    \"\"\"\n",
    "    Dataset class for textclassification\n",
    "    Tokenization handled in dataloader\n",
    "    \"\"\"\n",
    "    def __init__(self, datafile):\n",
    "        \n",
    "        try:\n",
    "            self.dataframe = pd.read_csv(datafile)\n",
    "        except:\n",
    "            print(f\"opening file:{datafile} failed\")\n",
    "            \n",
    "    def __len__(self):\n",
    "        return len(self.dataframe)\n",
    "    \n",
    "    def __getitem__(self, idx):\n",
    "        row = self.dataframe.iloc[idx]\n",
    "        sentence = row['sentence']\n",
    "        label = labelfromclass(row['ministry'])\n",
    "        return sentence, label\n",
    "            \n",
    "\n",
    "def collate_func(batch):\n",
    "    \"\"\"\n",
    "    collate function handles tokenization and attention mask\n",
    "    \"\"\"\n",
    "    sents, labels = zip(*batch)\n",
    "    encoding = tokenizer(list(sents), return_tensors='pt', padding=True, truncation=True ,max_length=256)\n",
    "    input_ids = encoding['input_ids']\n",
    "    attention_mask = encoding['attention_mask']\n",
    "    return (input_ids, attention_mask, torch.tensor(labels).unsqueeze(0)) \n",
    "\n",
    "   \n",
    "trainset = TextClassificationDataset(\"data/train.csv\")\n",
    "evalset = TextClassificationDataset(\"data/dev.csv\")\n",
    "dataloader = DataLoader(trainset, batch_size=32, shuffle=True, collate_fn=collate_func)"
   ]
  },
  {
   "cell_type": "code",
   "execution_count": 22,
   "id": "minute-metropolitan",
   "metadata": {},
   "outputs": [],
   "source": [
    "import numpy as np\n",
    "\n",
    "\n",
    "def get_accuracy(logits, labels):\n",
    "    predictions = torch.max(logits, dim=1)[1]\n",
    "    return (predictions==labels.squeeze(-1)).sum().item()\n",
    "\n",
    "\n",
    "@torch.no_grad()\n",
    "def evaluation_stats(model, evalloader):\n",
    "    \"\"\"\n",
    "    returns accucary and mean loss on evaluation set\n",
    "    \"\"\"\n",
    "    accuracy = 0\n",
    "    num_sents = 0\n",
    "    losses = []\n",
    "    model.eval()\n",
    "    for data in evalloader:\n",
    "        \n",
    "        inputs, attention_mask, labels = data\n",
    "        inputs, attention_mask, labels = inputs.to(device), attention_mask.to(device), labels.to(device)\n",
    "        \n",
    "        outputs = model(inputs, attention_mask=attention_mask, labels=labels)\n",
    "        losses.append(outputs.loss.item())\n",
    "        accuracy+=get_accuracy(outputs.logits, labels)\n",
    "        num_sents+=outputs.logits.shape[0]\n",
    "        \n",
    "    print(accuracy)\n",
    "    return (sum(losses)/len(losses), float(accuracy)/float(num_sents))\n",
    "\n",
    "@torch.no_grad()\n",
    "def get_preds(model, dataloader):\n",
    "    predictions = []\n",
    "    real_labels = []\n",
    "    model.eval()\n",
    "    for data in dataloader:\n",
    "        \n",
    "        inputs, attention_mask, labels = data\n",
    "        inputs, attention_mask, labels = inputs.to(device), attention_mask.to(device), labels.to(device)\n",
    "        \n",
    "        outputs = model(inputs, attention_mask=attention_mask, labels=labels)\n",
    "        preds = torch.max(outputs.logits, dim=1)[1]\n",
    "        predictions.append(preds.unsqueeze(1).cpu().detach())\n",
    "        real_labels.append(labels.cpu().detach().T)\n",
    "        \n",
    "    return torch.cat(predictions).numpy(), torch.cat(real_labels).numpy()\n",
    "            \n",
    "        \n",
    "\n",
    "#evaluation_stats(model, evalloader)\n",
    "#preds, labels = get_preds(model, evalloader)"
   ]
  },
  {
   "cell_type": "code",
   "execution_count": 61,
   "id": "broadband-america",
   "metadata": {},
   "outputs": [
    {
     "name": "stdout",
     "output_type": "stream",
     "text": [
      "initializing model\n"
     ]
    },
    {
     "name": "stderr",
     "output_type": "stream",
     "text": [
      "Some weights of the model checkpoint at TurkuNLP/bert-base-finnish-uncased-v1 were not used when initializing BertForSequenceClassification: ['cls.predictions.bias', 'cls.predictions.transform.dense.weight', 'cls.predictions.transform.dense.bias', 'cls.predictions.transform.LayerNorm.weight', 'cls.predictions.transform.LayerNorm.bias', 'cls.predictions.decoder.weight', 'cls.seq_relationship.weight', 'cls.seq_relationship.bias']\n",
      "- This IS expected if you are initializing BertForSequenceClassification from the checkpoint of a model trained on another task or with another architecture (e.g. initializing a BertForSequenceClassification model from a BertForPreTraining model).\n",
      "- This IS NOT expected if you are initializing BertForSequenceClassification from the checkpoint of a model that you expect to be exactly identical (initializing a BertForSequenceClassification model from a BertForSequenceClassification model).\n",
      "Some weights of BertForSequenceClassification were not initialized from the model checkpoint at TurkuNLP/bert-base-finnish-uncased-v1 and are newly initialized: ['classifier.weight', 'classifier.bias']\n",
      "You should probably TRAIN this model on a down-stream task to be able to use it for predictions and inference.\n"
     ]
    },
    {
     "name": "stdout",
     "output_type": "stream",
     "text": [
      "initializing datasets and optimizer\n",
      "344\n",
      "(2.7175044455426804, 0.11466666666666667)\n",
      "starting training\n",
      "starting epoch:1\n"
     ]
    },
    {
     "data": {
      "application/vnd.jupyter.widget-view+json": {
       "model_id": "016e14f0ecf645cfb6f720a38ce982a0",
       "version_major": 2,
       "version_minor": 0
      },
      "text/plain": [
       "  0%|          | 0/768 [00:00<?, ?it/s]"
      ]
     },
     "metadata": {},
     "output_type": "display_data"
    },
    {
     "name": "stdout",
     "output_type": "stream",
     "text": [
      "Training Loss Epoch1: 1.1431246136004727\n",
      "2203\n",
      "(0.8530740256005145, 0.7343333333333333)\n",
      "starting epoch:2\n"
     ]
    },
    {
     "data": {
      "application/vnd.jupyter.widget-view+json": {
       "model_id": "0a9ee1ad98324774914ed1336d08ec34",
       "version_major": 2,
       "version_minor": 0
      },
      "text/plain": [
       "  0%|          | 0/768 [00:00<?, ?it/s]"
      ]
     },
     "metadata": {},
     "output_type": "display_data"
    },
    {
     "name": "stdout",
     "output_type": "stream",
     "text": [
      "Training Loss Epoch2: 0.754994900431484\n",
      "2266\n",
      "(0.7833820042457986, 0.7553333333333333)\n",
      "starting epoch:3\n"
     ]
    },
    {
     "data": {
      "application/vnd.jupyter.widget-view+json": {
       "model_id": "5de318178e914cbe976a7fb38ddf163d",
       "version_major": 2,
       "version_minor": 0
      },
      "text/plain": [
       "  0%|          | 0/768 [00:00<?, ?it/s]"
      ]
     },
     "metadata": {},
     "output_type": "display_data"
    },
    {
     "name": "stdout",
     "output_type": "stream",
     "text": [
      "Training Loss Epoch3: 0.5712252810869055\n",
      "2294\n",
      "(0.7686967494639945, 0.7646666666666667)\n",
      "starting epoch:4\n"
     ]
    },
    {
     "data": {
      "application/vnd.jupyter.widget-view+json": {
       "model_id": "09dddc941490446f9792ba044f674500",
       "version_major": 2,
       "version_minor": 0
      },
      "text/plain": [
       "  0%|          | 0/768 [00:00<?, ?it/s]"
      ]
     },
     "metadata": {},
     "output_type": "display_data"
    },
    {
     "name": "stdout",
     "output_type": "stream",
     "text": [
      "Training Loss Epoch4: 0.43615720329883817\n",
      "2305\n",
      "(0.7759229414006497, 0.7683333333333333)\n",
      "starting epoch:5\n"
     ]
    },
    {
     "data": {
      "application/vnd.jupyter.widget-view+json": {
       "model_id": "e26f15fec34a44579f35fa61e93b82d6",
       "version_major": 2,
       "version_minor": 0
      },
      "text/plain": [
       "  0%|          | 0/768 [00:00<?, ?it/s]"
      ]
     },
     "metadata": {},
     "output_type": "display_data"
    },
    {
     "name": "stdout",
     "output_type": "stream",
     "text": [
      "Training Loss Epoch5: 0.3403503564283407\n",
      "2316\n",
      "(0.7937957327416603, 0.772)\n",
      "starting epoch:6\n"
     ]
    },
    {
     "data": {
      "application/vnd.jupyter.widget-view+json": {
       "model_id": "12ff4a1322e143c9a2abfb9cdcf84978",
       "version_major": 2,
       "version_minor": 0
      },
      "text/plain": [
       "  0%|          | 0/768 [00:00<?, ?it/s]"
      ]
     },
     "metadata": {},
     "output_type": "display_data"
    },
    {
     "name": "stdout",
     "output_type": "stream",
     "text": [
      "Training Loss Epoch6: 0.28510242891691934\n",
      "2331\n",
      "(0.8026553069023376, 0.777)\n"
     ]
    }
   ],
   "source": [
    "from transformers import AdamW, BertForSequenceClassification, get_linear_schedule_with_warmup\n",
    "from tqdm.notebook import tqdm\n",
    "import torch.nn as nn\n",
    "import warnings\n",
    "warnings.filterwarnings('ignore')\n",
    "\n",
    "#Parameters\n",
    "epochs = 6\n",
    "BATCH_SIZE = 64\n",
    "LR=2e-5\n",
    "device = 'cuda'\n",
    "save_checkpoint = True\n",
    "use_class_weights = False\n",
    "use_optimizer_grouped_parameters = True\n",
    "use_linear_schedule = True\n",
    "clip_grad = None\n",
    "\n",
    "print(\"initializing model\")\n",
    "model = BertForSequenceClassification.from_pretrained(\"TurkuNLP/bert-base-finnish-uncased-v1\", num_labels=len(label_names))\n",
    "model.to(device)\n",
    "\n",
    "print(\"initializing datasets and optimizer\")\n",
    "trainloader = DataLoader(trainset, batch_size=BATCH_SIZE, collate_fn=collate_func)\n",
    "evalloader = DataLoader(evalset, batch_size=BATCH_SIZE, collate_fn=collate_func)\n",
    "\n",
    "#Optimizer\n",
    "no_decay = ['bias', 'LayerNorm.weight']\n",
    "optimizer_grouped_parameters = [\n",
    "    {'params': [p for n, p in model.named_parameters() if not any(nd in n for nd in no_decay)], 'weight_decay': 0.01},\n",
    "    {'params': [p for n, p in model.named_parameters() if any(nd in n for nd in no_decay)], 'weight_decay': 0.0}\n",
    "]\n",
    "\n",
    "if use_optimizer_grouped_parameters:\n",
    "    optimizer=AdamW(optimizer_grouped_parameters, lr=LR)\n",
    "\n",
    "if not use_optimizer_grouped_parameters:\n",
    "    optimizer = AdamW(model.parameters(), lr=LR)\n",
    "\n",
    "    \n",
    "\n",
    "if use_linear_schedule:\n",
    "    num_train_steps = len(trainloader) * epochs\n",
    "    scheduler = get_linear_schedule_with_warmup(optimizer, num_warmup_steps=0, num_training_steps=num_train_steps)\n",
    "    \n",
    "\n",
    "#Loss function\n",
    "class_weights = class_weights.to(device)\n",
    "if use_class_weights:\n",
    "    criterion = nn.CrossEntropyLoss(weight=class_weights)\n",
    "if not use_class_weights:\n",
    "    criterion = nn.CrossEntropyLoss()\n",
    "\n",
    "eval_stats_list = []\n",
    "\n",
    "#print evaluation stats before any training\n",
    "eval_stats = evaluation_stats(model, evalloader)\n",
    "eval_stats_list.append(eval_stats)\n",
    "best_acc = 0\n",
    "\n",
    "print(eval_stats)\n",
    "\n",
    "\n",
    "print(\"starting training\")\n",
    "for epoch in range(epochs):\n",
    "    print(f\"starting epoch:{epoch+1}\")\n",
    "    i=0\n",
    "    losses = []\n",
    "    model.train()\n",
    "    for data in tqdm(trainloader):\n",
    "        i+=1\n",
    "        \n",
    "        optimizer.zero_grad()\n",
    "        \n",
    "        inputs, attention_mask, labels = data\n",
    "        inputs, attention_mask, labels = inputs.to(device), attention_mask.to(device), labels.to(device)\n",
    "        outputs = model(inputs, attention_mask=attention_mask)\n",
    "        loss = criterion(outputs.logits, labels.squeeze(0))\n",
    "        loss.backward()\n",
    "        \n",
    "        if clip_grad!=None:\n",
    "            torch.nn.utils.clip_grad_norm_(model.parameters(), clip_grad)\n",
    "        \n",
    "        optimizer.step()\n",
    "        if use_linear_schedule:\n",
    "            scheduler.step()\n",
    "        losses.append(loss.item())\n",
    "        \n",
    "    print(f\"Training Loss Epoch{epoch+1}: {sum(losses)/len(losses)}\")\n",
    "    eval_stats = evaluation_stats(model, evalloader)\n",
    "    if eval_stats[1] > best_acc:\n",
    "        best_acc = eval_stats[1]\n",
    "        if save_checkpoint:\n",
    "            torch.save(model.state_dict(), \"bestmodel.pt\")\n",
    "    print(eval_stats)\n",
    "    eval_stats_list.append(eval_stats)\n",
    "    \n",
    "#for data in evalloader"
   ]
  },
  {
   "cell_type": "code",
   "execution_count": 66,
   "id": "hollow-programmer",
   "metadata": {},
   "outputs": [
    {
     "name": "stdout",
     "output_type": "stream",
     "text": [
      "test accuracy:0.7603333333333333\n",
      "validation accuracy:0.777\n"
     ]
    }
   ],
   "source": [
    "from sklearn.metrics import classification_report, confusion_matrix, ConfusionMatrixDisplay\n",
    "testset = TextClassificationDataset(\"data/test.csv\")\n",
    "testloader = DataLoader(testset, batch_size=BATCH_SIZE, collate_fn=collate_func)\n",
    "preds, labels = get_preds(model, testloader)\n",
    "val_preds, val_labels = get_preds(model, evalloader)\n",
    "print(f\"test accuracy:{np.mean(preds==labels)}\")\n",
    "print(f\"validation accuracy:{np.mean(val_preds==val_labels)}\")"
   ]
  },
  {
   "cell_type": "code",
   "execution_count": 67,
   "id": "chemical-right",
   "metadata": {},
   "outputs": [
    {
     "name": "stdout",
     "output_type": "stream",
     "text": [
      "Test statistics:\n",
      "                                           precision    recall  f1-score   support\n",
      "\n",
      "                            sisäministeri       0.76      0.76      0.76       336\n",
      "                  oikeus- ja työministeri       0.67      0.73      0.70       362\n",
      "         maatalous- ja ympäristöministeri       0.84      0.85      0.85       450\n",
      "          perhe- ja peruspalveluministeri       0.77      0.79      0.78       480\n",
      "            sosiaali- ja terveysministeri       0.69      0.66      0.67       215\n",
      "            opetus- ja kulttuuriministeri       0.85      0.83      0.84       348\n",
      "eurooppa-, kulttuuri- ja urheiluministeri       0.70      0.59      0.64        51\n",
      "          liikenne- ja viestintäministeri       0.79      0.81      0.80       231\n",
      "                            ulkoministeri       0.77      0.74      0.75        76\n",
      "                             pääministeri       0.59      0.50      0.54        54\n",
      "                    valtiovarainministeri       0.77      0.74      0.76       161\n",
      "                       elinkeinoministeri       0.60      0.60      0.60       104\n",
      "              kunta- ja uudistusministeri       0.67      0.61      0.64        56\n",
      "                       puolustusministeri       0.76      0.67      0.71        39\n",
      "      ulkomaankauppa- ja kehitysministeri       0.81      0.70      0.75        37\n",
      "\n",
      "                                 accuracy                           0.76      3000\n",
      "                                macro avg       0.74      0.70      0.72      3000\n",
      "                             weighted avg       0.76      0.76      0.76      3000\n",
      "\n"
     ]
    }
   ],
   "source": [
    "print(\"Test statistics:\")\n",
    "print(classification_report(labels, preds, target_names=label_names))"
   ]
  },
  {
   "cell_type": "code",
   "execution_count": 68,
   "id": "spectacular-reservoir",
   "metadata": {},
   "outputs": [
    {
     "data": {
      "text/plain": [
       "<sklearn.metrics._plot.confusion_matrix.ConfusionMatrixDisplay at 0x25c28127808>"
      ]
     },
     "execution_count": 68,
     "metadata": {},
     "output_type": "execute_result"
    },
    {
     "data": {
      "image/png": "[encoded data removed]",
      "text/plain": [
       "<Figure size 1080x1080 with 2 Axes>"
      ]
     },
     "metadata": {
      "needs_background": "light"
     },
     "output_type": "display_data"
    }
   ],
   "source": [
    "import matplotlib.pyplot as plt\n",
    "%matplotlib inline\n",
    "plt.rcParams['figure.figsize'] = [15, 15]\n",
    "cm = confusion_matrix(labels, preds)\n",
    "disp = ConfusionMatrixDisplay(confusion_matrix=cm, display_labels=label_names)\n",
    "disp.plot(cmap=plt.cm.Blues, values_format='d')"
   ]
  },
  {
   "cell_type": "markdown",
   "id": "weekly-lighting",
   "metadata": {},
   "source": [
    "# Things to add:\n",
    "\n",
    "1. Quantization of model\n",
    "2. prioritized sampling"
   ]
  }
 ],
 "metadata": {
  "kernelspec": {
   "display_name": "finbert",
   "language": "python",
   "name": "finbert"
  },
  "language_info": {
   "codemirror_mode": {
    "name": "ipython",
    "version": 3
   },
   "file_extension": ".py",
   "mimetype": "text/x-python",
   "name": "python",
   "nbconvert_exporter": "python",
   "pygments_lexer": "ipython3",
   "version": "3.7.10"
  }
 },
 "nbformat": 4,
 "nbformat_minor": 5
}
