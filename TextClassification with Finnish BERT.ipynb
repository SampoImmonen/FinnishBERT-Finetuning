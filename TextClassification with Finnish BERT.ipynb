{
 "cells": [
  {
   "cell_type": "markdown",
   "id": "reserved-charles",
   "metadata": {},
   "source": [
    "# Text Classification with Finnish BERT (https://github.com/TurkuNLP/FinBERT)\n",
    "\n",
    "# Using data from: https://github.com/aajanki/eduskunta-vkk"
   ]
  },
  {
   "cell_type": "markdown",
   "id": "institutional-attraction",
   "metadata": {},
   "source": [
    "# Utility functions and previewing data"
   ]
  },
  {
   "cell_type": "code",
   "execution_count": 1,
   "id": "guided-premium",
   "metadata": {},
   "outputs": [
    {
     "name": "stdout",
     "output_type": "stream",
     "text": [
      "['sisäministeri' 'oikeus- ja työministeri'\n",
      " 'maatalous- ja ympäristöministeri' 'perhe- ja peruspalveluministeri'\n",
      " 'sosiaali- ja terveysministeri' 'opetus- ja kulttuuriministeri'\n",
      " 'eurooppa-, kulttuuri- ja urheiluministeri'\n",
      " 'liikenne- ja viestintäministeri' 'ulkoministeri' 'pääministeri'\n",
      " 'valtiovarainministeri' 'elinkeinoministeri'\n",
      " 'kunta- ja uudistusministeri' 'puolustusministeri'\n",
      " 'ulkomaankauppa- ja kehitysministeri']\n"
     ]
    }
   ],
   "source": [
    "#Data\n",
    "import pandas as pd\n",
    "\n",
    "train_df = pd.read_csv(\"data/train.csv\")\n",
    "label_names = train_df.ministry.unique()\n",
    "\n",
    "classnames = {}\n",
    "for i, label in enumerate(label_names):\n",
    "    classnames[label] = i\n",
    "    \n",
    "def labelfromclass(classname):\n",
    "    return classnames[classname]\n",
    "\n",
    "def classfromlabel(label):\n",
    "    keys = list(classnames.keys())\n",
    "    values = list(classnames.values())\n",
    "    return keys[values.index(label)]\n",
    "\n",
    "print(label_names)"
   ]
  },
  {
   "cell_type": "code",
   "execution_count": 2,
   "id": "about-saying",
   "metadata": {},
   "outputs": [
    {
     "data": {
      "text/html": [
       "<div>\n",
       "<style scoped>\n",
       "    .dataframe tbody tr th:only-of-type {\n",
       "        vertical-align: middle;\n",
       "    }\n",
       "\n",
       "    .dataframe tbody tr th {\n",
       "        vertical-align: top;\n",
       "    }\n",
       "\n",
       "    .dataframe thead th {\n",
       "        text-align: right;\n",
       "    }\n",
       "</style>\n",
       "<table border=\"1\" class=\"dataframe\">\n",
       "  <thead>\n",
       "    <tr style=\"text-align: right;\">\n",
       "      <th></th>\n",
       "      <th>sentence</th>\n",
       "      <th>ministry</th>\n",
       "    </tr>\n",
       "  </thead>\n",
       "  <tbody>\n",
       "    <tr>\n",
       "      <th>0</th>\n",
       "      <td>Hallituksen esityksen 43/2016vp valmistelussa ...</td>\n",
       "      <td>sisäministeri</td>\n",
       "    </tr>\n",
       "    <tr>\n",
       "      <th>1</th>\n",
       "      <td>Suojaosuuden nostaminen vähentäisi kaikkien ve...</td>\n",
       "      <td>oikeus- ja työministeri</td>\n",
       "    </tr>\n",
       "    <tr>\n",
       "      <th>2</th>\n",
       "      <td>Edistämällä puun käyttöä rakentamisessa tuetaa...</td>\n",
       "      <td>maatalous- ja ympäristöministeri</td>\n",
       "    </tr>\n",
       "    <tr>\n",
       "      <th>3</th>\n",
       "      <td>Valvira ja aluehallintovirastot ovat ottaneet ...</td>\n",
       "      <td>perhe- ja peruspalveluministeri</td>\n",
       "    </tr>\n",
       "    <tr>\n",
       "      <th>4</th>\n",
       "      <td>Lainmuutoksessa säädettiin vaativan lääkinnäll...</td>\n",
       "      <td>sosiaali- ja terveysministeri</td>\n",
       "    </tr>\n",
       "    <tr>\n",
       "      <th>5</th>\n",
       "      <td>Hilan tehtävänä on siis päättää , mitkä lääkke...</td>\n",
       "      <td>sosiaali- ja terveysministeri</td>\n",
       "    </tr>\n",
       "    <tr>\n",
       "      <th>6</th>\n",
       "      <td>Ammattikorkeakoulujen opiskelijakunnista sääde...</td>\n",
       "      <td>opetus- ja kulttuuriministeri</td>\n",
       "    </tr>\n",
       "    <tr>\n",
       "      <th>7</th>\n",
       "      <td>Kysymyksessäkin todetusti on tärkeää , että ty...</td>\n",
       "      <td>sosiaali- ja terveysministeri</td>\n",
       "    </tr>\n",
       "    <tr>\n",
       "      <th>8</th>\n",
       "      <td>Laki ei sinällään sisällä sanktioita työntekij...</td>\n",
       "      <td>perhe- ja peruspalveluministeri</td>\n",
       "    </tr>\n",
       "    <tr>\n",
       "      <th>9</th>\n",
       "      <td>Sibeliuksen syntymäpäivän 8.12. ja Eurooppa-pä...</td>\n",
       "      <td>sisäministeri</td>\n",
       "    </tr>\n",
       "  </tbody>\n",
       "</table>\n",
       "</div>"
      ],
      "text/plain": [
       "                                            sentence  \\\n",
       "0  Hallituksen esityksen 43/2016vp valmistelussa ...   \n",
       "1  Suojaosuuden nostaminen vähentäisi kaikkien ve...   \n",
       "2  Edistämällä puun käyttöä rakentamisessa tuetaa...   \n",
       "3  Valvira ja aluehallintovirastot ovat ottaneet ...   \n",
       "4  Lainmuutoksessa säädettiin vaativan lääkinnäll...   \n",
       "5  Hilan tehtävänä on siis päättää , mitkä lääkke...   \n",
       "6  Ammattikorkeakoulujen opiskelijakunnista sääde...   \n",
       "7  Kysymyksessäkin todetusti on tärkeää , että ty...   \n",
       "8  Laki ei sinällään sisällä sanktioita työntekij...   \n",
       "9  Sibeliuksen syntymäpäivän 8.12. ja Eurooppa-pä...   \n",
       "\n",
       "                           ministry  \n",
       "0                     sisäministeri  \n",
       "1           oikeus- ja työministeri  \n",
       "2  maatalous- ja ympäristöministeri  \n",
       "3   perhe- ja peruspalveluministeri  \n",
       "4     sosiaali- ja terveysministeri  \n",
       "5     sosiaali- ja terveysministeri  \n",
       "6     opetus- ja kulttuuriministeri  \n",
       "7     sosiaali- ja terveysministeri  \n",
       "8   perhe- ja peruspalveluministeri  \n",
       "9                     sisäministeri  "
      ]
     },
     "execution_count": 2,
     "metadata": {},
     "output_type": "execute_result"
    }
   ],
   "source": [
    "train_df.head(10)"
   ]
  },
  {
   "cell_type": "code",
   "execution_count": 3,
   "id": "frozen-contributor",
   "metadata": {},
   "outputs": [
    {
     "name": "stdout",
     "output_type": "stream",
     "text": [
      "tensor([0.0001, 0.0001, 0.0002, 0.0002, 0.0002, 0.0003, 0.0003, 0.0004, 0.0005,\n",
      "        0.0011, 0.0011, 0.0013, 0.0013, 0.0013, 0.0016])\n"
     ]
    },
    {
     "data": {
      "text/plain": [
       "<AxesSubplot:>"
      ]
     },
     "execution_count": 3,
     "metadata": {},
     "output_type": "execute_result"
    },
    {
     "data": {
      "image/png": "[encoded data removed]",
      "text/plain": [
       "<Figure size 432x288 with 1 Axes>"
      ]
     },
     "metadata": {
      "needs_background": "light"
     },
     "output_type": "display_data"
    }
   ],
   "source": [
    "#Count of different classes\n",
    "#Very uneven distribution of classes\n",
    "import seaborn as sns\n",
    "import torch\n",
    "\n",
    "label_counts = train_df.ministry.value_counts()\n",
    "label_counts = [label_counts[i] for i in range(len(label_counts))]\n",
    "\n",
    "#class weights to counter class imbalance\n",
    "class_weights = 1./(torch.tensor(label_counts))\n",
    "print(class_weights)\n",
    "\n",
    "train_df.ministry.value_counts().plot(kind='bar')"
   ]
  },
  {
   "cell_type": "markdown",
   "id": "increased-scott",
   "metadata": {},
   "source": [
    "# Defining Dataset class and Dataloader"
   ]
  },
  {
   "cell_type": "code",
   "execution_count": 4,
   "id": "manufactured-console",
   "metadata": {},
   "outputs": [],
   "source": [
    "from torch.utils.data import Dataset, DataLoader\n",
    "import torch\n",
    "import transformers\n",
    "\n",
    "tokenizer = transformers.BertTokenizer.from_pretrained(\"TurkuNLP/bert-base-finnish-uncased-v1\")\n",
    "\n",
    "class TextClassificationDataset(Dataset):\n",
    "    \"\"\"\n",
    "    Dataset class for textclassification\n",
    "    Tokenization handled in dataloader\n",
    "    \"\"\"\n",
    "    def __init__(self, datafile):\n",
    "        \n",
    "        try:\n",
    "            self.dataframe = pd.read_csv(datafile)\n",
    "        except:\n",
    "            print(f\"opening file:{datafile} failed\")\n",
    "            \n",
    "    def __len__(self):\n",
    "        return len(self.dataframe)\n",
    "    \n",
    "    def __getitem__(self, idx):\n",
    "        row = self.dataframe.iloc[idx]\n",
    "        sentence = row['sentence']\n",
    "        label = labelfromclass(row['ministry'])\n",
    "        return sentence, label\n",
    "            \n",
    "\n",
    "def collate_func(batch):\n",
    "    \"\"\"\n",
    "    collate function handles tokenization and attention mask\n",
    "    \"\"\"\n",
    "    sents, labels = zip(*batch)\n",
    "    encoding = tokenizer(list(sents), return_tensors='pt', padding=True, truncation=True ,max_length=256)\n",
    "    input_ids = encoding['input_ids']\n",
    "    attention_mask = encoding['attention_mask']\n",
    "    return (input_ids, attention_mask, torch.tensor(labels).unsqueeze(0)) \n",
    "\n",
    "   \n",
    "trainset = TextClassificationDataset(\"data/train.csv\")\n",
    "evalset = TextClassificationDataset(\"data/dev.csv\")\n",
    "dataloader = DataLoader(trainset, batch_size=32, shuffle=True, collate_fn=collate_func)"
   ]
  },
  {
   "cell_type": "markdown",
   "id": "modern-census",
   "metadata": {},
   "source": [
    "# Defining Utility functions for Evaluation"
   ]
  },
  {
   "cell_type": "code",
   "execution_count": 17,
   "id": "minute-metropolitan",
   "metadata": {},
   "outputs": [],
   "source": [
    "import numpy as np\n",
    "\n",
    "\n",
    "def get_accuracy(logits, labels):\n",
    "    predictions = torch.max(logits, dim=1)[1]\n",
    "    return (predictions==labels.squeeze(-1)).sum().item()\n",
    "\n",
    "\n",
    "@torch.no_grad()\n",
    "def evaluation_stats(model, evalloader, device):\n",
    "    \"\"\"\n",
    "    returns accucary and mean loss on evaluation set\n",
    "    \"\"\"\n",
    "    accuracy = 0\n",
    "    num_sents = 0\n",
    "    losses = []\n",
    "    model.eval()\n",
    "    for data in evalloader:\n",
    "        \n",
    "        inputs, attention_mask, labels = data\n",
    "        inputs, attention_mask, labels = inputs.to(device), attention_mask.to(device), labels.to(device)\n",
    "        \n",
    "        outputs = model(inputs, attention_mask=attention_mask, labels=labels)\n",
    "        losses.append(outputs.loss.item())\n",
    "        accuracy+=get_accuracy(outputs.logits, labels)\n",
    "        num_sents+=outputs.logits.shape[0]\n",
    "        \n",
    "    \n",
    "    return (sum(losses)/len(losses), float(accuracy)/float(num_sents))\n",
    "\n",
    "@torch.no_grad()\n",
    "def get_preds(model, dataloader, device):\n",
    "    predictions = []\n",
    "    real_labels = []\n",
    "    model.eval()\n",
    "    for data in dataloader:\n",
    "        \n",
    "        inputs, attention_mask, labels = data\n",
    "        inputs, attention_mask, labels = inputs.to(device), attention_mask.to(device), labels.to(device)\n",
    "        \n",
    "        outputs = model(inputs, attention_mask=attention_mask, labels=labels)\n",
    "        preds = torch.max(outputs.logits, dim=1)[1]\n",
    "        predictions.append(preds.unsqueeze(1).cpu().detach())\n",
    "        real_labels.append(labels.cpu().detach().T)\n",
    "        \n",
    "    return torch.cat(predictions).numpy(), torch.cat(real_labels).numpy()\n",
    "            \n",
    "    \n",
    "def get_cuda_memory():\n",
    "    bytes = torch.cuda.memory_allocated()\n",
    "    print(f\"cuda memory allocated:{bytes/(1000**3)}GB\")\n",
    "\n",
    "#evaluation_stats(model, evalloader)\n",
    "#preds, labels = get_preds(model, evalloader)"
   ]
  },
  {
   "cell_type": "markdown",
   "id": "cellular-priest",
   "metadata": {},
   "source": [
    "# Training Loop"
   ]
  },
  {
   "cell_type": "code",
   "execution_count": 7,
   "id": "broadband-america",
   "metadata": {},
   "outputs": [
    {
     "name": "stdout",
     "output_type": "stream",
     "text": [
      "initializing model\n"
     ]
    },
    {
     "name": "stderr",
     "output_type": "stream",
     "text": [
      "Some weights of the model checkpoint at TurkuNLP/bert-base-finnish-uncased-v1 were not used when initializing BertForSequenceClassification: ['cls.predictions.bias', 'cls.predictions.transform.dense.weight', 'cls.predictions.transform.dense.bias', 'cls.predictions.transform.LayerNorm.weight', 'cls.predictions.transform.LayerNorm.bias', 'cls.predictions.decoder.weight', 'cls.seq_relationship.weight', 'cls.seq_relationship.bias']\n",
      "- This IS expected if you are initializing BertForSequenceClassification from the checkpoint of a model trained on another task or with another architecture (e.g. initializing a BertForSequenceClassification model from a BertForPreTraining model).\n",
      "- This IS NOT expected if you are initializing BertForSequenceClassification from the checkpoint of a model that you expect to be exactly identical (initializing a BertForSequenceClassification model from a BertForSequenceClassification model).\n",
      "Some weights of BertForSequenceClassification were not initialized from the model checkpoint at TurkuNLP/bert-base-finnish-uncased-v1 and are newly initialized: ['classifier.weight', 'classifier.bias']\n",
      "You should probably TRAIN this model on a down-stream task to be able to use it for predictions and inference.\n"
     ]
    },
    {
     "name": "stdout",
     "output_type": "stream",
     "text": [
      "initializing Datasets\n",
      "initializing optimizer\n",
      "cuda memory allocated:1.530574336GB\n",
      "evaluation stats before training:\n",
      "(2.6959939155172794, 0.079)\n",
      "starting training\n",
      "starting epoch:1\n"
     ]
    },
    {
     "data": {
      "application/vnd.jupyter.widget-view+json": {
       "model_id": "a8c45c9e3fbe40f792b455e844c6735a",
       "version_major": 2,
       "version_minor": 0
      },
      "text/plain": [
       "  0%|          | 0/768 [00:00<?, ?it/s]"
      ]
     },
     "metadata": {},
     "output_type": "display_data"
    },
    {
     "name": "stdout",
     "output_type": "stream",
     "text": [
      "Training Loss Epoch1: 1.1283925328558932\n",
      "cuda memory allocated:3.086999552GB\n",
      "evaluation accuracy:0.7393333333333333, loss:0.8452477645366749\n",
      "starting epoch:2\n"
     ]
    },
    {
     "data": {
      "application/vnd.jupyter.widget-view+json": {
       "model_id": "8af88b435028409dbc1e65f2296617f2",
       "version_major": 2,
       "version_minor": 0
      },
      "text/plain": [
       "  0%|          | 0/768 [00:00<?, ?it/s]"
      ]
     },
     "metadata": {},
     "output_type": "display_data"
    },
    {
     "name": "stdout",
     "output_type": "stream",
     "text": [
      "Training Loss Epoch2: 0.7368487635006508\n",
      "cuda memory allocated:3.086999552GB\n",
      "evaluation accuracy:0.761, loss:0.771445910981361\n",
      "starting epoch:3\n"
     ]
    },
    {
     "data": {
      "application/vnd.jupyter.widget-view+json": {
       "model_id": "410d30642610483ea7bd88a8fa3dd697",
       "version_major": 2,
       "version_minor": 0
      },
      "text/plain": [
       "  0%|          | 0/768 [00:00<?, ?it/s]"
      ]
     },
     "metadata": {},
     "output_type": "display_data"
    },
    {
     "name": "stdout",
     "output_type": "stream",
     "text": [
      "Training Loss Epoch3: 0.5453929554399414\n",
      "cuda memory allocated:3.086999552GB\n",
      "evaluation accuracy:0.7683333333333333, loss:0.7643345873406593\n",
      "starting epoch:4\n"
     ]
    },
    {
     "data": {
      "application/vnd.jupyter.widget-view+json": {
       "model_id": "5157129588d34301bdcab62f2e8d96e8",
       "version_major": 2,
       "version_minor": 0
      },
      "text/plain": [
       "  0%|          | 0/768 [00:00<?, ?it/s]"
      ]
     },
     "metadata": {},
     "output_type": "display_data"
    },
    {
     "name": "stdout",
     "output_type": "stream",
     "text": [
      "Training Loss Epoch4: 0.4064375205974405\n",
      "cuda memory allocated:3.086999552GB\n",
      "evaluation accuracy:0.7696666666666667, loss:0.7948291168567982\n",
      "starting epoch:5\n"
     ]
    },
    {
     "data": {
      "application/vnd.jupyter.widget-view+json": {
       "model_id": "eaa777c0de3044208f5a10baa85d6fdd",
       "version_major": 2,
       "version_minor": 0
      },
      "text/plain": [
       "  0%|          | 0/768 [00:00<?, ?it/s]"
      ]
     },
     "metadata": {},
     "output_type": "display_data"
    },
    {
     "name": "stdout",
     "output_type": "stream",
     "text": [
      "Training Loss Epoch5: 0.3136721623595804\n",
      "cuda memory allocated:3.086999552GB\n",
      "evaluation accuracy:0.7703333333333333, loss:0.8151133815024761\n",
      "starting epoch:6\n"
     ]
    },
    {
     "data": {
      "application/vnd.jupyter.widget-view+json": {
       "model_id": "8e43a3ba532f493eb1333a0a89ee4918",
       "version_major": 2,
       "version_minor": 0
      },
      "text/plain": [
       "  0%|          | 0/768 [00:00<?, ?it/s]"
      ]
     },
     "metadata": {},
     "output_type": "display_data"
    },
    {
     "name": "stdout",
     "output_type": "stream",
     "text": [
      "Training Loss Epoch6: 0.25722155313026934\n",
      "cuda memory allocated:3.086999552GB\n",
      "evaluation accuracy:0.7776666666666666, loss:0.8120802805778828\n"
     ]
    }
   ],
   "source": [
    "from transformers import AdamW, BertForSequenceClassification, get_linear_schedule_with_warmup\n",
    "from tqdm.notebook import tqdm\n",
    "import torch.nn as nn\n",
    "from torch.utils.tensorboard import SummaryWriter\n",
    "import warnings\n",
    "warnings.filterwarnings('ignore')\n",
    "\n",
    "#Parameters\n",
    "epochs = 6\n",
    "BATCH_SIZE = 64\n",
    "LR=2e-5\n",
    "device = 'cuda'\n",
    "save_checkpoint = True\n",
    "use_class_weights = False\n",
    "use_optimizer_grouped_parameters = True\n",
    "use_linear_schedule = True\n",
    "clip_grad = None\n",
    "\n",
    "writer = SummaryWriter(\"runs/Bert_run2\")\n",
    "\n",
    "print(\"initializing model\")\n",
    "model = BertForSequenceClassification.from_pretrained(\"TurkuNLP/bert-base-finnish-uncased-v1\", num_labels=len(label_names))\n",
    "model.to(device)\n",
    "\n",
    "print(\"initializing Datasets\")\n",
    "trainloader = DataLoader(trainset, batch_size=BATCH_SIZE, collate_fn=collate_func)\n",
    "evalloader = DataLoader(evalset, batch_size=BATCH_SIZE, collate_fn=collate_func)\n",
    "\n",
    "#Optimizer\n",
    "print(\"initializing optimizer\")\n",
    "no_decay = ['bias', 'LayerNorm.weight']\n",
    "optimizer_grouped_parameters = [\n",
    "    {'params': [p for n, p in model.named_parameters() if not any(nd in n for nd in no_decay)], 'weight_decay': 0.01},\n",
    "    {'params': [p for n, p in model.named_parameters() if any(nd in n for nd in no_decay)], 'weight_decay': 0.0}\n",
    "]\n",
    "\n",
    "if use_optimizer_grouped_parameters:\n",
    "    optimizer=AdamW(optimizer_grouped_parameters, lr=LR)\n",
    "\n",
    "if not use_optimizer_grouped_parameters:\n",
    "    optimizer = AdamW(model.parameters(), lr=LR)\n",
    "\n",
    "if use_linear_schedule:\n",
    "    num_train_steps = len(trainloader) * epochs\n",
    "    scheduler = get_linear_schedule_with_warmup(optimizer, num_warmup_steps=0, num_training_steps=num_train_steps)\n",
    "    \n",
    "\n",
    "#Loss function\n",
    "class_weights = class_weights.to(device)\n",
    "if use_class_weights:\n",
    "    criterion = nn.CrossEntropyLoss(weight=class_weights)\n",
    "if not use_class_weights:\n",
    "    criterion = nn.CrossEntropyLoss()\n",
    "\n",
    "eval_stats_list = []\n",
    "\n",
    "#print evaluation stats before any training\n",
    "eval_stats = evaluation_stats(model, evalloader, device)\n",
    "eval_stats_list.append(eval_stats)\n",
    "best_acc = 0\n",
    "\n",
    "get_cuda_memory()\n",
    "print(\"evaluation stats before training:\")\n",
    "print(eval_stats)\n",
    "\n",
    "print(\"starting training\")\n",
    "for epoch in range(epochs):\n",
    "    print(f\"starting epoch:{epoch+1}\")\n",
    "    losses = []\n",
    "    model.train()\n",
    "    for data in tqdm(trainloader):\n",
    "        i+=1\n",
    "        \n",
    "        optimizer.zero_grad()\n",
    "        \n",
    "        inputs, attention_mask, labels = data\n",
    "        inputs, attention_mask, labels = inputs.to(device), attention_mask.to(device), labels.to(device)\n",
    "        outputs = model(inputs, attention_mask=attention_mask)\n",
    "        loss = criterion(outputs.logits, labels.squeeze(0))\n",
    "        loss.backward()\n",
    "        \n",
    "        if clip_grad!=None:\n",
    "            torch.nn.utils.clip_grad_norm_(model.parameters(), clip_grad)\n",
    "        \n",
    "        optimizer.step()\n",
    "        if use_linear_schedule:\n",
    "            scheduler.step()\n",
    "        losses.append(loss.item())\n",
    "        writer.add_scalar('train_loss', loss.item(), i)\n",
    "    print(f\"Training Loss Epoch {epoch+1}: {sum(losses)/len(losses)}\")\n",
    "    get_cuda_memory()\n",
    "    eval_stats = evaluation_stats(model, evalloader, device)\n",
    "    writer.add_scalar('eval_loss', eval_stats[0], epoch)\n",
    "    writer.add_scalar('eval accuracy', eval_stats[1], epoch)\n",
    "    if eval_stats[1] > best_acc:\n",
    "        best_acc = eval_stats[1]\n",
    "        if save_checkpoint:\n",
    "            torch.save(model.state_dict(), \"bestmodel.pt\")\n",
    "    print(f\"evaluation accuracy:{eval_stats[1]}, loss:{eval_stats[0]}\")\n",
    "    eval_stats_list.append(eval_stats)\n",
    "    \n",
    "#for data in evalloader"
   ]
  },
  {
   "cell_type": "code",
   "execution_count": 9,
   "id": "hollow-programmer",
   "metadata": {},
   "outputs": [
    {
     "name": "stdout",
     "output_type": "stream",
     "text": [
      "test accuracy:0.7616666666666667\n",
      "validation accuracy:0.7776666666666666\n"
     ]
    }
   ],
   "source": [
    "from sklearn.metrics import classification_report, confusion_matrix, ConfusionMatrixDisplay\n",
    "\n",
    "testset = TextClassificationDataset(\"data/test.csv\")\n",
    "testloader = DataLoader(testset, batch_size=BATCH_SIZE, collate_fn=collate_func)\n",
    "preds, labels = get_preds(model, testloader, device)\n",
    "val_preds, val_labels = get_preds(model, evalloader, device)\n",
    "\n",
    "print(f\"test accuracy:{np.mean(preds==labels)}\")\n",
    "print(f\"validation accuracy:{np.mean(val_preds==val_labels)}\")"
   ]
  },
  {
   "cell_type": "code",
   "execution_count": 10,
   "id": "chemical-right",
   "metadata": {},
   "outputs": [
    {
     "name": "stdout",
     "output_type": "stream",
     "text": [
      "Test statistics:\n",
      "                                           precision    recall  f1-score   support\n",
      "\n",
      "                            sisäministeri       0.80      0.76      0.78       336\n",
      "                  oikeus- ja työministeri       0.70      0.75      0.72       362\n",
      "         maatalous- ja ympäristöministeri       0.83      0.83      0.83       450\n",
      "          perhe- ja peruspalveluministeri       0.76      0.79      0.78       480\n",
      "            sosiaali- ja terveysministeri       0.71      0.68      0.69       215\n",
      "            opetus- ja kulttuuriministeri       0.84      0.84      0.84       348\n",
      "eurooppa-, kulttuuri- ja urheiluministeri       0.65      0.61      0.63        51\n",
      "          liikenne- ja viestintäministeri       0.80      0.81      0.80       231\n",
      "                            ulkoministeri       0.76      0.74      0.75        76\n",
      "                             pääministeri       0.61      0.52      0.56        54\n",
      "                    valtiovarainministeri       0.76      0.75      0.75       161\n",
      "                       elinkeinoministeri       0.58      0.60      0.59       104\n",
      "              kunta- ja uudistusministeri       0.63      0.59      0.61        56\n",
      "                       puolustusministeri       0.74      0.72      0.73        39\n",
      "      ulkomaankauppa- ja kehitysministeri       0.69      0.73      0.71        37\n",
      "\n",
      "                                 accuracy                           0.76      3000\n",
      "                                macro avg       0.72      0.71      0.72      3000\n",
      "                             weighted avg       0.76      0.76      0.76      3000\n",
      "\n"
     ]
    }
   ],
   "source": [
    "print(\"Test statistics:\")\n",
    "print(classification_report(labels, preds, target_names=label_names))"
   ]
  },
  {
   "cell_type": "code",
   "execution_count": 11,
   "id": "spectacular-reservoir",
   "metadata": {},
   "outputs": [
    {
     "data": {
      "text/plain": [
       "<sklearn.metrics._plot.confusion_matrix.ConfusionMatrixDisplay at 0x251e59f6508>"
      ]
     },
     "execution_count": 11,
     "metadata": {},
     "output_type": "execute_result"
    },
    {
     "data": {
      "image/png": "[encoded data removed]",
      "text/plain": [
       "<Figure size 1080x1080 with 2 Axes>"
      ]
     },
     "metadata": {
      "needs_background": "light"
     },
     "output_type": "display_data"
    }
   ],
   "source": [
    "import matplotlib.pyplot as plt\n",
    "%matplotlib inline\n",
    "plt.rcParams['figure.figsize'] = [15, 15]\n",
    "cm = confusion_matrix(labels, preds)\n",
    "disp = ConfusionMatrixDisplay(confusion_matrix=cm, display_labels=label_names)\n",
    "disp.plot(cmap=plt.cm.Blues, values_format='d')"
   ]
  },
  {
   "cell_type": "markdown",
   "id": "sunset-belief",
   "metadata": {},
   "source": [
    "# Dynamic quantization of the Model"
   ]
  },
  {
   "cell_type": "code",
   "execution_count": 21,
   "id": "exclusive-bailey",
   "metadata": {},
   "outputs": [
    {
     "name": "stdout",
     "output_type": "stream",
     "text": [
      "memory footprint of original model:\n",
      "Size (MB): 498.207935\n",
      "memory footprint of quantized model:\n",
      "Size (MB): 241.658847\n"
     ]
    }
   ],
   "source": [
    "import os\n",
    "import timeit\n",
    "\n",
    "def print_size_of_model(model):\n",
    "    torch.save(model.state_dict(), \"temp.p\")\n",
    "    print('Size (MB):', os.path.getsize(\"temp.p\")/1e6)\n",
    "    os.remove('temp.p')\n",
    "    \n",
    "model.cpu()\n",
    "quantized_model = torch.quantization.quantize_dynamic(model, {torch.nn.Linear}, dtype=torch.qint8)\n",
    "\n",
    "print(\"memory footprint of original model:\")\n",
    "print_size_of_model(model)\n",
    "print(\"memory footprint of quantized model:\")\n",
    "print_size_of_model(quantized_model)"
   ]
  },
  {
   "cell_type": "markdown",
   "id": "dried-plaza",
   "metadata": {},
   "source": [
    "# Test with all threads"
   ]
  },
  {
   "cell_type": "code",
   "execution_count": 25,
   "id": "traditional-buying",
   "metadata": {},
   "outputs": [
    {
     "name": "stdout",
     "output_type": "stream",
     "text": [
      "original model, accuracy:0.7616666666666667, loss:0.9231104254722595, time:91.5609028339386\n",
      "quantized model, accuracy:0.46166666666666667, loss:1.8637529662314882, time:84.24957823753357\n"
     ]
    }
   ],
   "source": [
    "import time\n",
    "\n",
    "device = 'cpu'\n",
    "start_time = time.time()\n",
    "eval_stats = evaluation_stats(model, testloader, device)\n",
    "t = time.time()-start_time\n",
    "print(f\"original model, accuracy:{eval_stats[1]}, loss:{eval_stats[0]}, time:{t}\")\n",
    "start_time = time.time()\n",
    "eval_stats = evaluation_stats(quantized_model, testloader, device)\n",
    "t = time.time()-start_time\n",
    "print(f\"quantized model, accuracy:{eval_stats[1]}, loss:{eval_stats[0]}, time:{t}\")"
   ]
  },
  {
   "cell_type": "code",
   "execution_count": 28,
   "id": "speaking-tyler",
   "metadata": {},
   "outputs": [
    {
     "name": "stdout",
     "output_type": "stream",
     "text": [
      "6.713708162307739\n",
      "8.886167049407959\n",
      "5.447102069854736\n",
      "7.064931869506836\n"
     ]
    },
    {
     "ename": "KeyboardInterrupt",
     "evalue": "",
     "output_type": "error",
     "traceback": [
      "\u001b[1;31m---------------------------------------------------------------------------\u001b[0m",
      "\u001b[1;31mKeyboardInterrupt\u001b[0m                         Traceback (most recent call last)",
      "\u001b[1;32m<ipython-input-28-27795a091d86>\u001b[0m in \u001b[0;36m<module>\u001b[1;34m\u001b[0m\n\u001b[0;32m      7\u001b[0m     \u001b[0moutputs\u001b[0m \u001b[1;33m=\u001b[0m \u001b[0mmodel\u001b[0m\u001b[1;33m(\u001b[0m\u001b[0minputs\u001b[0m\u001b[1;33m,\u001b[0m \u001b[0mattention_mask\u001b[0m\u001b[1;33m=\u001b[0m\u001b[0mattention_mask\u001b[0m\u001b[1;33m,\u001b[0m \u001b[0mlabels\u001b[0m\u001b[1;33m=\u001b[0m\u001b[0mlabels\u001b[0m\u001b[1;33m)\u001b[0m\u001b[1;33m\u001b[0m\u001b[1;33m\u001b[0m\u001b[0m\n\u001b[0;32m      8\u001b[0m     \u001b[0mt2\u001b[0m \u001b[1;33m=\u001b[0m \u001b[0mtime\u001b[0m\u001b[1;33m.\u001b[0m\u001b[0mtime\u001b[0m\u001b[1;33m(\u001b[0m\u001b[1;33m)\u001b[0m\u001b[1;33m\u001b[0m\u001b[1;33m\u001b[0m\u001b[0m\n\u001b[1;32m----> 9\u001b[1;33m     \u001b[0moutputs\u001b[0m \u001b[1;33m=\u001b[0m \u001b[0mquantized_model\u001b[0m\u001b[1;33m(\u001b[0m\u001b[0minputs\u001b[0m\u001b[1;33m,\u001b[0m \u001b[0mattention_mask\u001b[0m\u001b[1;33m=\u001b[0m\u001b[0mattention_mask\u001b[0m\u001b[1;33m,\u001b[0m \u001b[0mlabels\u001b[0m\u001b[1;33m=\u001b[0m\u001b[0mlabels\u001b[0m\u001b[1;33m)\u001b[0m\u001b[1;33m\u001b[0m\u001b[1;33m\u001b[0m\u001b[0m\n\u001b[0m\u001b[0;32m     10\u001b[0m     \u001b[0mt3\u001b[0m \u001b[1;33m=\u001b[0m \u001b[0mtime\u001b[0m\u001b[1;33m.\u001b[0m\u001b[0mtime\u001b[0m\u001b[1;33m(\u001b[0m\u001b[1;33m)\u001b[0m\u001b[1;33m\u001b[0m\u001b[1;33m\u001b[0m\u001b[0m\n\u001b[0;32m     11\u001b[0m     \u001b[0mprint\u001b[0m\u001b[1;33m(\u001b[0m\u001b[0mt3\u001b[0m\u001b[1;33m-\u001b[0m\u001b[0mt2\u001b[0m\u001b[1;33m)\u001b[0m\u001b[1;33m\u001b[0m\u001b[1;33m\u001b[0m\u001b[0m\n",
      "\u001b[1;32mc:\\users\\immon\\anaconda3\\envs\\finbert\\lib\\site-packages\\torch\\nn\\modules\\module.py\u001b[0m in \u001b[0;36m_call_impl\u001b[1;34m(self, *input, **kwargs)\u001b[0m\n\u001b[0;32m    887\u001b[0m             \u001b[0mresult\u001b[0m \u001b[1;33m=\u001b[0m \u001b[0mself\u001b[0m\u001b[1;33m.\u001b[0m\u001b[0m_slow_forward\u001b[0m\u001b[1;33m(\u001b[0m\u001b[1;33m*\u001b[0m\u001b[0minput\u001b[0m\u001b[1;33m,\u001b[0m \u001b[1;33m**\u001b[0m\u001b[0mkwargs\u001b[0m\u001b[1;33m)\u001b[0m\u001b[1;33m\u001b[0m\u001b[1;33m\u001b[0m\u001b[0m\n\u001b[0;32m    888\u001b[0m         \u001b[1;32melse\u001b[0m\u001b[1;33m:\u001b[0m\u001b[1;33m\u001b[0m\u001b[1;33m\u001b[0m\u001b[0m\n\u001b[1;32m--> 889\u001b[1;33m             \u001b[0mresult\u001b[0m \u001b[1;33m=\u001b[0m \u001b[0mself\u001b[0m\u001b[1;33m.\u001b[0m\u001b[0mforward\u001b[0m\u001b[1;33m(\u001b[0m\u001b[1;33m*\u001b[0m\u001b[0minput\u001b[0m\u001b[1;33m,\u001b[0m \u001b[1;33m**\u001b[0m\u001b[0mkwargs\u001b[0m\u001b[1;33m)\u001b[0m\u001b[1;33m\u001b[0m\u001b[1;33m\u001b[0m\u001b[0m\n\u001b[0m\u001b[0;32m    890\u001b[0m         for hook in itertools.chain(\n\u001b[0;32m    891\u001b[0m                 \u001b[0m_global_forward_hooks\u001b[0m\u001b[1;33m.\u001b[0m\u001b[0mvalues\u001b[0m\u001b[1;33m(\u001b[0m\u001b[1;33m)\u001b[0m\u001b[1;33m,\u001b[0m\u001b[1;33m\u001b[0m\u001b[1;33m\u001b[0m\u001b[0m\n",
      "\u001b[1;32mc:\\users\\immon\\anaconda3\\envs\\finbert\\lib\\site-packages\\transformers\\models\\bert\\modeling_bert.py\u001b[0m in \u001b[0;36mforward\u001b[1;34m(self, input_ids, attention_mask, token_type_ids, position_ids, head_mask, inputs_embeds, labels, output_attentions, output_hidden_states, return_dict)\u001b[0m\n\u001b[0;32m   1508\u001b[0m             \u001b[0moutput_attentions\u001b[0m\u001b[1;33m=\u001b[0m\u001b[0moutput_attentions\u001b[0m\u001b[1;33m,\u001b[0m\u001b[1;33m\u001b[0m\u001b[1;33m\u001b[0m\u001b[0m\n\u001b[0;32m   1509\u001b[0m             \u001b[0moutput_hidden_states\u001b[0m\u001b[1;33m=\u001b[0m\u001b[0moutput_hidden_states\u001b[0m\u001b[1;33m,\u001b[0m\u001b[1;33m\u001b[0m\u001b[1;33m\u001b[0m\u001b[0m\n\u001b[1;32m-> 1510\u001b[1;33m             \u001b[0mreturn_dict\u001b[0m\u001b[1;33m=\u001b[0m\u001b[0mreturn_dict\u001b[0m\u001b[1;33m,\u001b[0m\u001b[1;33m\u001b[0m\u001b[1;33m\u001b[0m\u001b[0m\n\u001b[0m\u001b[0;32m   1511\u001b[0m         )\n\u001b[0;32m   1512\u001b[0m \u001b[1;33m\u001b[0m\u001b[0m\n",
      "\u001b[1;32mc:\\users\\immon\\anaconda3\\envs\\finbert\\lib\\site-packages\\torch\\nn\\modules\\module.py\u001b[0m in \u001b[0;36m_call_impl\u001b[1;34m(self, *input, **kwargs)\u001b[0m\n\u001b[0;32m    887\u001b[0m             \u001b[0mresult\u001b[0m \u001b[1;33m=\u001b[0m \u001b[0mself\u001b[0m\u001b[1;33m.\u001b[0m\u001b[0m_slow_forward\u001b[0m\u001b[1;33m(\u001b[0m\u001b[1;33m*\u001b[0m\u001b[0minput\u001b[0m\u001b[1;33m,\u001b[0m \u001b[1;33m**\u001b[0m\u001b[0mkwargs\u001b[0m\u001b[1;33m)\u001b[0m\u001b[1;33m\u001b[0m\u001b[1;33m\u001b[0m\u001b[0m\n\u001b[0;32m    888\u001b[0m         \u001b[1;32melse\u001b[0m\u001b[1;33m:\u001b[0m\u001b[1;33m\u001b[0m\u001b[1;33m\u001b[0m\u001b[0m\n\u001b[1;32m--> 889\u001b[1;33m             \u001b[0mresult\u001b[0m \u001b[1;33m=\u001b[0m \u001b[0mself\u001b[0m\u001b[1;33m.\u001b[0m\u001b[0mforward\u001b[0m\u001b[1;33m(\u001b[0m\u001b[1;33m*\u001b[0m\u001b[0minput\u001b[0m\u001b[1;33m,\u001b[0m \u001b[1;33m**\u001b[0m\u001b[0mkwargs\u001b[0m\u001b[1;33m)\u001b[0m\u001b[1;33m\u001b[0m\u001b[1;33m\u001b[0m\u001b[0m\n\u001b[0m\u001b[0;32m    890\u001b[0m         for hook in itertools.chain(\n\u001b[0;32m    891\u001b[0m                 \u001b[0m_global_forward_hooks\u001b[0m\u001b[1;33m.\u001b[0m\u001b[0mvalues\u001b[0m\u001b[1;33m(\u001b[0m\u001b[1;33m)\u001b[0m\u001b[1;33m,\u001b[0m\u001b[1;33m\u001b[0m\u001b[1;33m\u001b[0m\u001b[0m\n",
      "\u001b[1;32mc:\\users\\immon\\anaconda3\\envs\\finbert\\lib\\site-packages\\transformers\\models\\bert\\modeling_bert.py\u001b[0m in \u001b[0;36mforward\u001b[1;34m(self, input_ids, attention_mask, token_type_ids, position_ids, head_mask, inputs_embeds, encoder_hidden_states, encoder_attention_mask, past_key_values, use_cache, output_attentions, output_hidden_states, return_dict)\u001b[0m\n\u001b[0;32m    979\u001b[0m             \u001b[0moutput_attentions\u001b[0m\u001b[1;33m=\u001b[0m\u001b[0moutput_attentions\u001b[0m\u001b[1;33m,\u001b[0m\u001b[1;33m\u001b[0m\u001b[1;33m\u001b[0m\u001b[0m\n\u001b[0;32m    980\u001b[0m             \u001b[0moutput_hidden_states\u001b[0m\u001b[1;33m=\u001b[0m\u001b[0moutput_hidden_states\u001b[0m\u001b[1;33m,\u001b[0m\u001b[1;33m\u001b[0m\u001b[1;33m\u001b[0m\u001b[0m\n\u001b[1;32m--> 981\u001b[1;33m             \u001b[0mreturn_dict\u001b[0m\u001b[1;33m=\u001b[0m\u001b[0mreturn_dict\u001b[0m\u001b[1;33m,\u001b[0m\u001b[1;33m\u001b[0m\u001b[1;33m\u001b[0m\u001b[0m\n\u001b[0m\u001b[0;32m    982\u001b[0m         )\n\u001b[0;32m    983\u001b[0m         \u001b[0msequence_output\u001b[0m \u001b[1;33m=\u001b[0m \u001b[0mencoder_outputs\u001b[0m\u001b[1;33m[\u001b[0m\u001b[1;36m0\u001b[0m\u001b[1;33m]\u001b[0m\u001b[1;33m\u001b[0m\u001b[1;33m\u001b[0m\u001b[0m\n",
      "\u001b[1;32mc:\\users\\immon\\anaconda3\\envs\\finbert\\lib\\site-packages\\torch\\nn\\modules\\module.py\u001b[0m in \u001b[0;36m_call_impl\u001b[1;34m(self, *input, **kwargs)\u001b[0m\n\u001b[0;32m    887\u001b[0m             \u001b[0mresult\u001b[0m \u001b[1;33m=\u001b[0m \u001b[0mself\u001b[0m\u001b[1;33m.\u001b[0m\u001b[0m_slow_forward\u001b[0m\u001b[1;33m(\u001b[0m\u001b[1;33m*\u001b[0m\u001b[0minput\u001b[0m\u001b[1;33m,\u001b[0m \u001b[1;33m**\u001b[0m\u001b[0mkwargs\u001b[0m\u001b[1;33m)\u001b[0m\u001b[1;33m\u001b[0m\u001b[1;33m\u001b[0m\u001b[0m\n\u001b[0;32m    888\u001b[0m         \u001b[1;32melse\u001b[0m\u001b[1;33m:\u001b[0m\u001b[1;33m\u001b[0m\u001b[1;33m\u001b[0m\u001b[0m\n\u001b[1;32m--> 889\u001b[1;33m             \u001b[0mresult\u001b[0m \u001b[1;33m=\u001b[0m \u001b[0mself\u001b[0m\u001b[1;33m.\u001b[0m\u001b[0mforward\u001b[0m\u001b[1;33m(\u001b[0m\u001b[1;33m*\u001b[0m\u001b[0minput\u001b[0m\u001b[1;33m,\u001b[0m \u001b[1;33m**\u001b[0m\u001b[0mkwargs\u001b[0m\u001b[1;33m)\u001b[0m\u001b[1;33m\u001b[0m\u001b[1;33m\u001b[0m\u001b[0m\n\u001b[0m\u001b[0;32m    890\u001b[0m         for hook in itertools.chain(\n\u001b[0;32m    891\u001b[0m                 \u001b[0m_global_forward_hooks\u001b[0m\u001b[1;33m.\u001b[0m\u001b[0mvalues\u001b[0m\u001b[1;33m(\u001b[0m\u001b[1;33m)\u001b[0m\u001b[1;33m,\u001b[0m\u001b[1;33m\u001b[0m\u001b[1;33m\u001b[0m\u001b[0m\n",
      "\u001b[1;32mc:\\users\\immon\\anaconda3\\envs\\finbert\\lib\\site-packages\\transformers\\models\\bert\\modeling_bert.py\u001b[0m in \u001b[0;36mforward\u001b[1;34m(self, hidden_states, attention_mask, head_mask, encoder_hidden_states, encoder_attention_mask, past_key_values, use_cache, output_attentions, output_hidden_states, return_dict)\u001b[0m\n\u001b[0;32m    573\u001b[0m                     \u001b[0mencoder_attention_mask\u001b[0m\u001b[1;33m,\u001b[0m\u001b[1;33m\u001b[0m\u001b[1;33m\u001b[0m\u001b[0m\n\u001b[0;32m    574\u001b[0m                     \u001b[0mpast_key_value\u001b[0m\u001b[1;33m,\u001b[0m\u001b[1;33m\u001b[0m\u001b[1;33m\u001b[0m\u001b[0m\n\u001b[1;32m--> 575\u001b[1;33m                     \u001b[0moutput_attentions\u001b[0m\u001b[1;33m,\u001b[0m\u001b[1;33m\u001b[0m\u001b[1;33m\u001b[0m\u001b[0m\n\u001b[0m\u001b[0;32m    576\u001b[0m                 )\n\u001b[0;32m    577\u001b[0m \u001b[1;33m\u001b[0m\u001b[0m\n",
      "\u001b[1;32mc:\\users\\immon\\anaconda3\\envs\\finbert\\lib\\site-packages\\torch\\nn\\modules\\module.py\u001b[0m in \u001b[0;36m_call_impl\u001b[1;34m(self, *input, **kwargs)\u001b[0m\n\u001b[0;32m    887\u001b[0m             \u001b[0mresult\u001b[0m \u001b[1;33m=\u001b[0m \u001b[0mself\u001b[0m\u001b[1;33m.\u001b[0m\u001b[0m_slow_forward\u001b[0m\u001b[1;33m(\u001b[0m\u001b[1;33m*\u001b[0m\u001b[0minput\u001b[0m\u001b[1;33m,\u001b[0m \u001b[1;33m**\u001b[0m\u001b[0mkwargs\u001b[0m\u001b[1;33m)\u001b[0m\u001b[1;33m\u001b[0m\u001b[1;33m\u001b[0m\u001b[0m\n\u001b[0;32m    888\u001b[0m         \u001b[1;32melse\u001b[0m\u001b[1;33m:\u001b[0m\u001b[1;33m\u001b[0m\u001b[1;33m\u001b[0m\u001b[0m\n\u001b[1;32m--> 889\u001b[1;33m             \u001b[0mresult\u001b[0m \u001b[1;33m=\u001b[0m \u001b[0mself\u001b[0m\u001b[1;33m.\u001b[0m\u001b[0mforward\u001b[0m\u001b[1;33m(\u001b[0m\u001b[1;33m*\u001b[0m\u001b[0minput\u001b[0m\u001b[1;33m,\u001b[0m \u001b[1;33m**\u001b[0m\u001b[0mkwargs\u001b[0m\u001b[1;33m)\u001b[0m\u001b[1;33m\u001b[0m\u001b[1;33m\u001b[0m\u001b[0m\n\u001b[0m\u001b[0;32m    890\u001b[0m         for hook in itertools.chain(\n\u001b[0;32m    891\u001b[0m                 \u001b[0m_global_forward_hooks\u001b[0m\u001b[1;33m.\u001b[0m\u001b[0mvalues\u001b[0m\u001b[1;33m(\u001b[0m\u001b[1;33m)\u001b[0m\u001b[1;33m,\u001b[0m\u001b[1;33m\u001b[0m\u001b[1;33m\u001b[0m\u001b[0m\n",
      "\u001b[1;32mc:\\users\\immon\\anaconda3\\envs\\finbert\\lib\\site-packages\\transformers\\models\\bert\\modeling_bert.py\u001b[0m in \u001b[0;36mforward\u001b[1;34m(self, hidden_states, attention_mask, head_mask, encoder_hidden_states, encoder_attention_mask, past_key_value, output_attentions)\u001b[0m\n\u001b[0;32m    459\u001b[0m             \u001b[0mhead_mask\u001b[0m\u001b[1;33m,\u001b[0m\u001b[1;33m\u001b[0m\u001b[1;33m\u001b[0m\u001b[0m\n\u001b[0;32m    460\u001b[0m             \u001b[0moutput_attentions\u001b[0m\u001b[1;33m=\u001b[0m\u001b[0moutput_attentions\u001b[0m\u001b[1;33m,\u001b[0m\u001b[1;33m\u001b[0m\u001b[1;33m\u001b[0m\u001b[0m\n\u001b[1;32m--> 461\u001b[1;33m             \u001b[0mpast_key_value\u001b[0m\u001b[1;33m=\u001b[0m\u001b[0mself_attn_past_key_value\u001b[0m\u001b[1;33m,\u001b[0m\u001b[1;33m\u001b[0m\u001b[1;33m\u001b[0m\u001b[0m\n\u001b[0m\u001b[0;32m    462\u001b[0m         )\n\u001b[0;32m    463\u001b[0m         \u001b[0mattention_output\u001b[0m \u001b[1;33m=\u001b[0m \u001b[0mself_attention_outputs\u001b[0m\u001b[1;33m[\u001b[0m\u001b[1;36m0\u001b[0m\u001b[1;33m]\u001b[0m\u001b[1;33m\u001b[0m\u001b[1;33m\u001b[0m\u001b[0m\n",
      "\u001b[1;32mc:\\users\\immon\\anaconda3\\envs\\finbert\\lib\\site-packages\\torch\\nn\\modules\\module.py\u001b[0m in \u001b[0;36m_call_impl\u001b[1;34m(self, *input, **kwargs)\u001b[0m\n\u001b[0;32m    887\u001b[0m             \u001b[0mresult\u001b[0m \u001b[1;33m=\u001b[0m \u001b[0mself\u001b[0m\u001b[1;33m.\u001b[0m\u001b[0m_slow_forward\u001b[0m\u001b[1;33m(\u001b[0m\u001b[1;33m*\u001b[0m\u001b[0minput\u001b[0m\u001b[1;33m,\u001b[0m \u001b[1;33m**\u001b[0m\u001b[0mkwargs\u001b[0m\u001b[1;33m)\u001b[0m\u001b[1;33m\u001b[0m\u001b[1;33m\u001b[0m\u001b[0m\n\u001b[0;32m    888\u001b[0m         \u001b[1;32melse\u001b[0m\u001b[1;33m:\u001b[0m\u001b[1;33m\u001b[0m\u001b[1;33m\u001b[0m\u001b[0m\n\u001b[1;32m--> 889\u001b[1;33m             \u001b[0mresult\u001b[0m \u001b[1;33m=\u001b[0m \u001b[0mself\u001b[0m\u001b[1;33m.\u001b[0m\u001b[0mforward\u001b[0m\u001b[1;33m(\u001b[0m\u001b[1;33m*\u001b[0m\u001b[0minput\u001b[0m\u001b[1;33m,\u001b[0m \u001b[1;33m**\u001b[0m\u001b[0mkwargs\u001b[0m\u001b[1;33m)\u001b[0m\u001b[1;33m\u001b[0m\u001b[1;33m\u001b[0m\u001b[0m\n\u001b[0m\u001b[0;32m    890\u001b[0m         for hook in itertools.chain(\n\u001b[0;32m    891\u001b[0m                 \u001b[0m_global_forward_hooks\u001b[0m\u001b[1;33m.\u001b[0m\u001b[0mvalues\u001b[0m\u001b[1;33m(\u001b[0m\u001b[1;33m)\u001b[0m\u001b[1;33m,\u001b[0m\u001b[1;33m\u001b[0m\u001b[1;33m\u001b[0m\u001b[0m\n",
      "\u001b[1;32mc:\\users\\immon\\anaconda3\\envs\\finbert\\lib\\site-packages\\transformers\\models\\bert\\modeling_bert.py\u001b[0m in \u001b[0;36mforward\u001b[1;34m(self, hidden_states, attention_mask, head_mask, encoder_hidden_states, encoder_attention_mask, past_key_value, output_attentions)\u001b[0m\n\u001b[0;32m    392\u001b[0m             \u001b[0mencoder_attention_mask\u001b[0m\u001b[1;33m,\u001b[0m\u001b[1;33m\u001b[0m\u001b[1;33m\u001b[0m\u001b[0m\n\u001b[0;32m    393\u001b[0m             \u001b[0mpast_key_value\u001b[0m\u001b[1;33m,\u001b[0m\u001b[1;33m\u001b[0m\u001b[1;33m\u001b[0m\u001b[0m\n\u001b[1;32m--> 394\u001b[1;33m             \u001b[0moutput_attentions\u001b[0m\u001b[1;33m,\u001b[0m\u001b[1;33m\u001b[0m\u001b[1;33m\u001b[0m\u001b[0m\n\u001b[0m\u001b[0;32m    395\u001b[0m         )\n\u001b[0;32m    396\u001b[0m         \u001b[0mattention_output\u001b[0m \u001b[1;33m=\u001b[0m \u001b[0mself\u001b[0m\u001b[1;33m.\u001b[0m\u001b[0moutput\u001b[0m\u001b[1;33m(\u001b[0m\u001b[0mself_outputs\u001b[0m\u001b[1;33m[\u001b[0m\u001b[1;36m0\u001b[0m\u001b[1;33m]\u001b[0m\u001b[1;33m,\u001b[0m \u001b[0mhidden_states\u001b[0m\u001b[1;33m)\u001b[0m\u001b[1;33m\u001b[0m\u001b[1;33m\u001b[0m\u001b[0m\n",
      "\u001b[1;32mc:\\users\\immon\\anaconda3\\envs\\finbert\\lib\\site-packages\\torch\\nn\\modules\\module.py\u001b[0m in \u001b[0;36m_call_impl\u001b[1;34m(self, *input, **kwargs)\u001b[0m\n\u001b[0;32m    887\u001b[0m             \u001b[0mresult\u001b[0m \u001b[1;33m=\u001b[0m \u001b[0mself\u001b[0m\u001b[1;33m.\u001b[0m\u001b[0m_slow_forward\u001b[0m\u001b[1;33m(\u001b[0m\u001b[1;33m*\u001b[0m\u001b[0minput\u001b[0m\u001b[1;33m,\u001b[0m \u001b[1;33m**\u001b[0m\u001b[0mkwargs\u001b[0m\u001b[1;33m)\u001b[0m\u001b[1;33m\u001b[0m\u001b[1;33m\u001b[0m\u001b[0m\n\u001b[0;32m    888\u001b[0m         \u001b[1;32melse\u001b[0m\u001b[1;33m:\u001b[0m\u001b[1;33m\u001b[0m\u001b[1;33m\u001b[0m\u001b[0m\n\u001b[1;32m--> 889\u001b[1;33m             \u001b[0mresult\u001b[0m \u001b[1;33m=\u001b[0m \u001b[0mself\u001b[0m\u001b[1;33m.\u001b[0m\u001b[0mforward\u001b[0m\u001b[1;33m(\u001b[0m\u001b[1;33m*\u001b[0m\u001b[0minput\u001b[0m\u001b[1;33m,\u001b[0m \u001b[1;33m**\u001b[0m\u001b[0mkwargs\u001b[0m\u001b[1;33m)\u001b[0m\u001b[1;33m\u001b[0m\u001b[1;33m\u001b[0m\u001b[0m\n\u001b[0m\u001b[0;32m    890\u001b[0m         for hook in itertools.chain(\n\u001b[0;32m    891\u001b[0m                 \u001b[0m_global_forward_hooks\u001b[0m\u001b[1;33m.\u001b[0m\u001b[0mvalues\u001b[0m\u001b[1;33m(\u001b[0m\u001b[1;33m)\u001b[0m\u001b[1;33m,\u001b[0m\u001b[1;33m\u001b[0m\u001b[1;33m\u001b[0m\u001b[0m\n",
      "\u001b[1;32mc:\\users\\immon\\anaconda3\\envs\\finbert\\lib\\site-packages\\transformers\\models\\bert\\modeling_bert.py\u001b[0m in \u001b[0;36mforward\u001b[1;34m(self, hidden_states, attention_mask, head_mask, encoder_hidden_states, encoder_attention_mask, past_key_value, output_attentions)\u001b[0m\n\u001b[0;32m    273\u001b[0m             \u001b[0mvalue_layer\u001b[0m \u001b[1;33m=\u001b[0m \u001b[0mtorch\u001b[0m\u001b[1;33m.\u001b[0m\u001b[0mcat\u001b[0m\u001b[1;33m(\u001b[0m\u001b[1;33m[\u001b[0m\u001b[0mpast_key_value\u001b[0m\u001b[1;33m[\u001b[0m\u001b[1;36m1\u001b[0m\u001b[1;33m]\u001b[0m\u001b[1;33m,\u001b[0m \u001b[0mvalue_layer\u001b[0m\u001b[1;33m]\u001b[0m\u001b[1;33m,\u001b[0m \u001b[0mdim\u001b[0m\u001b[1;33m=\u001b[0m\u001b[1;36m2\u001b[0m\u001b[1;33m)\u001b[0m\u001b[1;33m\u001b[0m\u001b[1;33m\u001b[0m\u001b[0m\n\u001b[0;32m    274\u001b[0m         \u001b[1;32melse\u001b[0m\u001b[1;33m:\u001b[0m\u001b[1;33m\u001b[0m\u001b[1;33m\u001b[0m\u001b[0m\n\u001b[1;32m--> 275\u001b[1;33m             \u001b[0mkey_layer\u001b[0m \u001b[1;33m=\u001b[0m \u001b[0mself\u001b[0m\u001b[1;33m.\u001b[0m\u001b[0mtranspose_for_scores\u001b[0m\u001b[1;33m(\u001b[0m\u001b[0mself\u001b[0m\u001b[1;33m.\u001b[0m\u001b[0mkey\u001b[0m\u001b[1;33m(\u001b[0m\u001b[0mhidden_states\u001b[0m\u001b[1;33m)\u001b[0m\u001b[1;33m)\u001b[0m\u001b[1;33m\u001b[0m\u001b[1;33m\u001b[0m\u001b[0m\n\u001b[0m\u001b[0;32m    276\u001b[0m             \u001b[0mvalue_layer\u001b[0m \u001b[1;33m=\u001b[0m \u001b[0mself\u001b[0m\u001b[1;33m.\u001b[0m\u001b[0mtranspose_for_scores\u001b[0m\u001b[1;33m(\u001b[0m\u001b[0mself\u001b[0m\u001b[1;33m.\u001b[0m\u001b[0mvalue\u001b[0m\u001b[1;33m(\u001b[0m\u001b[0mhidden_states\u001b[0m\u001b[1;33m)\u001b[0m\u001b[1;33m)\u001b[0m\u001b[1;33m\u001b[0m\u001b[1;33m\u001b[0m\u001b[0m\n\u001b[0;32m    277\u001b[0m \u001b[1;33m\u001b[0m\u001b[0m\n",
      "\u001b[1;32mc:\\users\\immon\\anaconda3\\envs\\finbert\\lib\\site-packages\\torch\\nn\\modules\\module.py\u001b[0m in \u001b[0;36m_call_impl\u001b[1;34m(self, *input, **kwargs)\u001b[0m\n\u001b[0;32m    887\u001b[0m             \u001b[0mresult\u001b[0m \u001b[1;33m=\u001b[0m \u001b[0mself\u001b[0m\u001b[1;33m.\u001b[0m\u001b[0m_slow_forward\u001b[0m\u001b[1;33m(\u001b[0m\u001b[1;33m*\u001b[0m\u001b[0minput\u001b[0m\u001b[1;33m,\u001b[0m \u001b[1;33m**\u001b[0m\u001b[0mkwargs\u001b[0m\u001b[1;33m)\u001b[0m\u001b[1;33m\u001b[0m\u001b[1;33m\u001b[0m\u001b[0m\n\u001b[0;32m    888\u001b[0m         \u001b[1;32melse\u001b[0m\u001b[1;33m:\u001b[0m\u001b[1;33m\u001b[0m\u001b[1;33m\u001b[0m\u001b[0m\n\u001b[1;32m--> 889\u001b[1;33m             \u001b[0mresult\u001b[0m \u001b[1;33m=\u001b[0m \u001b[0mself\u001b[0m\u001b[1;33m.\u001b[0m\u001b[0mforward\u001b[0m\u001b[1;33m(\u001b[0m\u001b[1;33m*\u001b[0m\u001b[0minput\u001b[0m\u001b[1;33m,\u001b[0m \u001b[1;33m**\u001b[0m\u001b[0mkwargs\u001b[0m\u001b[1;33m)\u001b[0m\u001b[1;33m\u001b[0m\u001b[1;33m\u001b[0m\u001b[0m\n\u001b[0m\u001b[0;32m    890\u001b[0m         for hook in itertools.chain(\n\u001b[0;32m    891\u001b[0m                 \u001b[0m_global_forward_hooks\u001b[0m\u001b[1;33m.\u001b[0m\u001b[0mvalues\u001b[0m\u001b[1;33m(\u001b[0m\u001b[1;33m)\u001b[0m\u001b[1;33m,\u001b[0m\u001b[1;33m\u001b[0m\u001b[1;33m\u001b[0m\u001b[0m\n",
      "\u001b[1;32mc:\\users\\immon\\anaconda3\\envs\\finbert\\lib\\site-packages\\torch\\nn\\quantized\\dynamic\\modules\\linear.py\u001b[0m in \u001b[0;36mforward\u001b[1;34m(self, x)\u001b[0m\n\u001b[0;32m     46\u001b[0m             \u001b[1;32melse\u001b[0m\u001b[1;33m:\u001b[0m\u001b[1;33m\u001b[0m\u001b[1;33m\u001b[0m\u001b[0m\n\u001b[0;32m     47\u001b[0m                 Y = torch.ops.quantized.linear_dynamic(\n\u001b[1;32m---> 48\u001b[1;33m                     x, self._packed_params._packed_params, reduce_range=True)\n\u001b[0m\u001b[0;32m     49\u001b[0m         \u001b[1;32melif\u001b[0m \u001b[0mself\u001b[0m\u001b[1;33m.\u001b[0m\u001b[0m_packed_params\u001b[0m\u001b[1;33m.\u001b[0m\u001b[0mdtype\u001b[0m \u001b[1;33m==\u001b[0m \u001b[0mtorch\u001b[0m\u001b[1;33m.\u001b[0m\u001b[0mfloat16\u001b[0m\u001b[1;33m:\u001b[0m\u001b[1;33m\u001b[0m\u001b[1;33m\u001b[0m\u001b[0m\n\u001b[0;32m     50\u001b[0m             Y = torch.ops.quantized.linear_dynamic_fp16(\n",
      "\u001b[1;31mKeyboardInterrupt\u001b[0m: "
     ]
    }
   ],
   "source": [
    "torch.set_num_threads(1)\n",
    "\n",
    "\n",
    "i = 0\n",
    "quant = []\n",
    "orig = []\n",
    "\n",
    "for batch in testloader:\n",
    "    i+=1\n",
    "    inputs, attention_mask, labels = batch\n",
    "    t1 = time.time()\n",
    "    outputs = model(inputs, attention_mask=attention_mask, labels=labels)\n",
    "    t2 = time.time()\n",
    "    outputs = quantized_model(inputs, attention_mask=attention_mask, labels=labels)\n",
    "    t3 = time.time()\n",
    "    orig.append(t2-t1)\n",
    "    quant.append(t3-t2)\n",
    "    if i==5:\n",
    "        break\n",
    "        \n",
    "print(f\"quantized inference mean: {sum(quant)/len(quant)}\")\n",
    "print(f\"quantized inference mean: {sum(quant)/len(quant)}\")"
   ]
  }
 ],
 "metadata": {
  "kernelspec": {
   "display_name": "finbert",
   "language": "python",
   "name": "finbert"
  },
  "language_info": {
   "codemirror_mode": {
    "name": "ipython",
    "version": 3
   },
   "file_extension": ".py",
   "mimetype": "text/x-python",
   "name": "python",
   "nbconvert_exporter": "python",
   "pygments_lexer": "ipython3",
   "version": "3.7.10"
  }
 },
 "nbformat": 4,
 "nbformat_minor": 5
}
